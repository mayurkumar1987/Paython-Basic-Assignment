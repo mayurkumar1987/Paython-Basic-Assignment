{
  "nbformat": 4,
  "nbformat_minor": 0,
  "metadata": {
    "colab": {
      "provenance": [],
      "collapsed_sections": []
    },
    "kernelspec": {
      "name": "python3",
      "display_name": "Python 3"
    },
    "language_info": {
      "name": "python"
    }
  },
  "cells": [
    {
      "cell_type": "markdown",
      "source": [
        "# Que_1\n",
        "\n",
        "In the below elements which of them are values or an expression? eg:- values can be integer or string and expressions will be mathematical operators.\n",
        "* \n",
        "'hello'\n",
        "-87.8\n",
        "- \n",
        "/ \n",
        "+\t\n",
        "6 \n"
      ],
      "metadata": {
        "id": "CMXBV9_dSFgg"
      }
    },
    {
      "cell_type": "markdown",
      "source": [
        "# Ans_1\n",
        "(1) * is a multiplication mathematical operator.\n",
        "(2) 'hello' is a string value.\n",
        "(3) -87.8 is a float mathematical operator.\n",
        "(4) - is a subtraction mathematical operator.\n",
        "(5) / is a division mathematical operator.\n",
        "(6) + is a addition mathematical operator.\n",
        "(7) 6 is a integer value.\n",
        "\n",
        "\n",
        "\n",
        "\n"
      ],
      "metadata": {
        "id": "VOGcLWBFWCwg"
      }
    },
    {
      "cell_type": "markdown",
      "source": [
        "# Que_2 \n",
        "What is the difference between string and variable?"
      ],
      "metadata": {
        "id": "jEBUIqQaVHMk"
      }
    },
    {
      "cell_type": "markdown",
      "source": [
        "# Ans_2\n",
        "A Variable is a store of information, and a String is a type of information you would store in a Variable. A String is usually words, enclosed with \"\"\n"
      ],
      "metadata": {
        "id": "R1i5pwdcV5mA"
      }
    },
    {
      "cell_type": "markdown",
      "source": [
        "# Que_3\n",
        "\n",
        "Describe three different data types."
      ],
      "metadata": {
        "id": "BqLv6TwyXC_X"
      }
    },
    {
      "cell_type": "markdown",
      "source": [
        "# Ans_3\n",
        "(1)\n",
        "Numbers data type. eg. integer, float, complex number.\n",
        "(2)\n",
        "Sequence data type. eg. strings, list, tuple.\n",
        "(3)\n",
        "Boolean data type.\n"
      ],
      "metadata": {
        "id": "Y5ojMr3qXpN3"
      }
    },
    {
      "cell_type": "markdown",
      "source": [
        "# Que_4\n",
        "What is an expression made up of? What do all expressions do?"
      ],
      "metadata": {
        "id": "YFLjy5M0cP-m"
      }
    },
    {
      "cell_type": "markdown",
      "source": [
        "# Ans_4\n",
        "An expression is a combination of values, variables, operators, and calls to functions. Expressions need to be evaluated. If you ask to print an expression, the interpreter evaluates the expression and displays the result."
      ],
      "metadata": {
        "id": "IPzstObaaRd5"
      }
    },
    {
      "cell_type": "markdown",
      "source": [
        "# Que_5\n",
        "This assignment statements, like spam = 10. What is the difference between an expression and a statement?"
      ],
      "metadata": {
        "id": "pvU7z4qrdPOO"
      }
    },
    {
      "cell_type": "markdown",
      "source": [
        "# Ans_5\n",
        "An expression is a combination of values, variables, operators, and calls to functions. Expressions need to be evaluated. If you ask to print an expression, the interpreter evaluates the expression and displays the result.\n",
        "while a statement is an instruction that the interpreter can execute."
      ],
      "metadata": {
        "id": "SUmebEQ2dYQn"
      }
    },
    {
      "cell_type": "markdown",
      "source": [
        "# Que_6\n",
        "After running the following code, what does the variable bacon contain?\n",
        "bacon = 22\n",
        "bacon + 1\n"
      ],
      "metadata": {
        "id": "cUb0Ihagd5I8"
      }
    },
    {
      "cell_type": "markdown",
      "source": [
        "# Ans_6"
      ],
      "metadata": {
        "id": "livNy3Cud9su"
      }
    },
    {
      "cell_type": "code",
      "source": [
        "bacon = 22\n",
        "bacon + 1"
      ],
      "metadata": {
        "id": "m4MV52CBeD7t",
        "colab": {
          "base_uri": "https://localhost:8080/"
        },
        "outputId": "698e99f2-d3da-4557-8f48-18a0fe76a890"
      },
      "execution_count": null,
      "outputs": [
        {
          "output_type": "execute_result",
          "data": {
            "text/plain": [
              "23"
            ]
          },
          "metadata": {},
          "execution_count": 1
        }
      ]
    },
    {
      "cell_type": "code",
      "source": [
        "bacon+1"
      ],
      "metadata": {
        "id": "l1Dbur7KeM4U",
        "outputId": "52e866dd-f33b-4007-b9cf-960437fe93ee",
        "colab": {
          "base_uri": "https://localhost:8080/"
        }
      },
      "execution_count": null,
      "outputs": [
        {
          "output_type": "execute_result",
          "data": {
            "text/plain": [
              "23"
            ]
          },
          "metadata": {},
          "execution_count": 6
        }
      ]
    },
    {
      "cell_type": "markdown",
      "source": [
        "# Que_7\n",
        "What should the values of the following two terms be?\n",
        "'spam' + 'spamspam'\n",
        "'spam' * 3\n"
      ],
      "metadata": {
        "id": "vmtgkveUUJiX"
      }
    },
    {
      "cell_type": "code",
      "source": [
        "'spam' + 'spamspam'"
      ],
      "metadata": {
        "colab": {
          "base_uri": "https://localhost:8080/",
          "height": 35
        },
        "id": "nPOS_NWjUWkX",
        "outputId": "7b9e55d6-9e32-442f-ca8a-b25df03f4f65"
      },
      "execution_count": null,
      "outputs": [
        {
          "output_type": "execute_result",
          "data": {
            "text/plain": [
              "'spamspamspam'"
            ],
            "application/vnd.google.colaboratory.intrinsic+json": {
              "type": "string"
            }
          },
          "metadata": {},
          "execution_count": 1
        }
      ]
    },
    {
      "cell_type": "code",
      "source": [
        "'spam'*3"
      ],
      "metadata": {
        "colab": {
          "base_uri": "https://localhost:8080/",
          "height": 35
        },
        "id": "-FxFnz0tUu5W",
        "outputId": "06d69875-24d4-4c8f-cff3-8c07cbf0c264"
      },
      "execution_count": null,
      "outputs": [
        {
          "output_type": "execute_result",
          "data": {
            "text/plain": [
              "'spamspamspam'"
            ],
            "application/vnd.google.colaboratory.intrinsic+json": {
              "type": "string"
            }
          },
          "metadata": {},
          "execution_count": 2
        }
      ]
    },
    {
      "cell_type": "markdown",
      "source": [
        "# Que_8\n",
        "Why is eggs a valid variable name while 100 is invalid?"
      ],
      "metadata": {
        "id": "VeZphy6CU5Q3"
      }
    },
    {
      "cell_type": "markdown",
      "source": [
        "# Ans_8\n",
        "Definetly eggs is a valid variable name because eggs itself a name wiht alphabets, while 100 is a number, in varible name number is not allowed at starting."
      ],
      "metadata": {
        "id": "WgjsowUfVfOe"
      }
    },
    {
      "cell_type": "markdown",
      "source": [
        "# Que_9\n",
        "What three functions can be used to get the integer, floating-point number, or string version of a value?"
      ],
      "metadata": {
        "id": "AXvvYaT3WL-F"
      }
    },
    {
      "cell_type": "markdown",
      "source": [
        "# Ans_9\n"
      ],
      "metadata": {
        "id": "7AHCYisQW941"
      }
    },
    {
      "cell_type": "code",
      "source": [
        "int() = for getting int ,\n",
        "float() = for getting float,\n",
        "str() = for getting string"
      ],
      "metadata": {
        "id": "HDQFQm_zW3WO"
      },
      "execution_count": null,
      "outputs": []
    },
    {
      "cell_type": "markdown",
      "source": [
        "# Que_10\n",
        "Why does this expression cause an error? How can you fix it?\n",
        "'I have eaten ' + 99 + ' burritos.'\n",
        "\n"
      ],
      "metadata": {
        "id": "85_m9mlgWxs2"
      }
    },
    {
      "cell_type": "markdown",
      "source": [
        "# Ans_9\n",
        "This expression cause an error because python can not concatenate integer + string we have two options to fix , first we can convert int to string or second for showing with print you can use comma ',' this will also work"
      ],
      "metadata": {
        "id": "7qG2Cji-XCdV"
      }
    },
    {
      "cell_type": "code",
      "source": [
        "'I have eaten ' + '99' + ' burritos.'"
      ],
      "metadata": {
        "colab": {
          "base_uri": "https://localhost:8080/",
          "height": 35
        },
        "id": "ufo4IW3_XEtt",
        "outputId": "fb102154-5cf4-4853-cb96-e3a1a4747833"
      },
      "execution_count": null,
      "outputs": [
        {
          "output_type": "execute_result",
          "data": {
            "text/plain": [
              "'I have eaten 99 burritos.'"
            ],
            "application/vnd.google.colaboratory.intrinsic+json": {
              "type": "string"
            }
          },
          "metadata": {},
          "execution_count": 8
        }
      ]
    }
  ]
}